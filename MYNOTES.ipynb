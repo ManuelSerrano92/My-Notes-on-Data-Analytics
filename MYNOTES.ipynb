{
 "cells": [
  {
   "cell_type": "markdown",
   "metadata": {},
   "source": [
    "\n",
    "# MIS NOTAS PERSONALES EN ANALÍTICA DE DATOS\n",
    "\n",
    "\n",
    "# <span style=\"color:red;\">LA REGRESIÓN LINEAL</span>\n",
    "\n",
    "\n",
    "## El coeficiente de Correlación Lineal R\n",
    "\n",
    "Considere cinco deficiniciones que sumergen a diferente profundidad el conocimiento que aporta el coeficiente R.\n",
    "\n",
    "**NIVEL 1:** El coeficiente R mide la intensidad de la relación lineal entre dos variables. Varía entre 1 y -1, teniendo que el cero indica no hay relación. Esto se puede entender como qué tan bien una línea puede explicar una variable dependiente $ y_{i} $ a partir de una variable independiente $ x_{i} $.\n",
    "\n",
    "Fórmula de Pearson:\n",
    "\n",
    "$$ r = \\frac{1}{n-1} \\sum _{i} \\left(\\frac{X_i - \\bar{X}}{S_x}\\right)\\left(\\frac{Y_i - \\bar{Y}}{S_y}\\right) $$\n",
    "\n",
    "NOTA: Tenga en cuenta que esta es una simplificación de la obtención de dicho coeficiente, ella facilita la obtención del r a través de tablas.\n",
    "\n",
    "**NIVEL 2:** Considere el origen geométrico del coeficiente r. \n",
    "\n",
    "\n",
    "\n",
    "**NIVEL 3:** La obtención computacional\n",
    "\n",
    "\n",
    "**NIVEL 4:** La perspectiva de la Optimización\n",
    "El origen del r es un algoritmo de mínimos cuadrados que minimiza el área cuadrada de todos los puntos para conformar una recta que sería la que pasa más cerca por todos ellos minimizando la distancia punto-recta. Este origen incluye las cantidades DAM, RSE, RSME.\n",
    "\n",
    "\n",
    "\n",
    "**NIVEL 5:**"
   ]
  }
 ],
 "metadata": {
  "language_info": {
   "name": "python"
  }
 },
 "nbformat": 4,
 "nbformat_minor": 2
}
