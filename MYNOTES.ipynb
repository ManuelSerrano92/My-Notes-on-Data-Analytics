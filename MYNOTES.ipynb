{
 "cells": [
  {
   "cell_type": "markdown",
   "metadata": {},
   "source": [
    "\n",
    "# MIS NOTAS PERSONALES EN ANALÍTICA DE DATOS\n",
    "\n",
    "\n",
    "\n",
    "Esta serie de escritos pretende recopilar mis aprendizajes personales en el campo de la analítica de datos.\n",
    "\n",
    "\n",
    "\n",
    "POR: ING DAVID RODRÍGUEZ\n",
    "\n",
    "\n",
    "\n",
    "\n",
    "\n",
    "\n",
    "\n",
    "\n"
   ]
  }
 ],
 "metadata": {
  "kernelspec": {
   "display_name": "base",
   "language": "python",
   "name": "python3"
  },
  "language_info": {
   "codemirror_mode": {
    "name": "ipython",
    "version": 3
   },
   "file_extension": ".py",
   "mimetype": "text/x-python",
   "name": "python",
   "nbconvert_exporter": "python",
   "pygments_lexer": "ipython3",
   "version": "3.9.12"
  }
 },
 "nbformat": 4,
 "nbformat_minor": 2
}
